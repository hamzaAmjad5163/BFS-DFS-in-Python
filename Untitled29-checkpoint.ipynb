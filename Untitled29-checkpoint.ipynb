{
 "cells": [
  {
   "cell_type": "code",
   "execution_count": 1,
   "id": "31a9c351",
   "metadata": {},
   "outputs": [
    {
     "name": "stdout",
     "output_type": "stream",
     "text": [
      "A "
     ]
    }
   ],
   "source": [
    "\n",
    "mygraph = {\n",
    "    \"A\":[\"B\",\"C\"],\n",
    "    \"B\":[\"D\"],\n",
    "    \"C\":[\"E\"],\n",
    "    \"D\":[],\n",
    "    \"E\":[\"F\"],\n",
    "    \"F\":[\"\"]\n",
    "}\n",
    "\n",
    "visited = []\n",
    "queue = []\n",
    "\n",
    "def mybfs(visited, mygraph, starting_node):\n",
    "    visited.append(starting_node)\n",
    "    queue.append(starting_node)\n",
    "    while queue:\n",
    "        a = queue.pop(0)\n",
    "        print(a, end=\" \")\n",
    "        \n",
    "    for neighbours in mygraph[a]:\n",
    "        if neighbours not in visited:\n",
    "            visited.append(neighbours)\n",
    "            queue.append(neighbours)\n",
    "mybfs(visited, mygraph, \"A\")"
   ]
  },
  {
   "cell_type": "code",
   "execution_count": 6,
   "id": "7b51b002",
   "metadata": {},
   "outputs": [
    {
     "name": "stdout",
     "output_type": "stream",
     "text": [
      "A B D C E F  "
     ]
    },
    {
     "ename": "KeyError",
     "evalue": "''",
     "output_type": "error",
     "traceback": [
      "\u001b[1;31m---------------------------------------------------------------------------\u001b[0m",
      "\u001b[1;31mKeyError\u001b[0m                                  Traceback (most recent call last)",
      "Input \u001b[1;32mIn [6]\u001b[0m, in \u001b[0;36m<cell line: 18>\u001b[1;34m()\u001b[0m\n\u001b[0;32m     15\u001b[0m         \u001b[38;5;28;01mfor\u001b[39;00m neighbours \u001b[38;5;129;01min\u001b[39;00m mygraph[starting_node]:\n\u001b[0;32m     16\u001b[0m             mydfs(visited, mygraph,neighbours)\n\u001b[1;32m---> 18\u001b[0m \u001b[43mmydfs\u001b[49m\u001b[43m(\u001b[49m\u001b[43mvisited\u001b[49m\u001b[43m,\u001b[49m\u001b[43m \u001b[49m\u001b[43mmygraph\u001b[49m\u001b[43m,\u001b[49m\u001b[43m \u001b[49m\u001b[38;5;124;43m\"\u001b[39;49m\u001b[38;5;124;43mA\u001b[39;49m\u001b[38;5;124;43m\"\u001b[39;49m\u001b[43m)\u001b[49m\n",
      "Input \u001b[1;32mIn [6]\u001b[0m, in \u001b[0;36mmydfs\u001b[1;34m(visited, mygraph, starting_node)\u001b[0m\n\u001b[0;32m     13\u001b[0m \u001b[38;5;28mprint\u001b[39m (starting_node,end\u001b[38;5;241m=\u001b[39m\u001b[38;5;124m\"\u001b[39m\u001b[38;5;124m \u001b[39m\u001b[38;5;124m\"\u001b[39m)\n\u001b[0;32m     15\u001b[0m \u001b[38;5;28;01mfor\u001b[39;00m neighbours \u001b[38;5;129;01min\u001b[39;00m mygraph[starting_node]:\n\u001b[1;32m---> 16\u001b[0m     \u001b[43mmydfs\u001b[49m\u001b[43m(\u001b[49m\u001b[43mvisited\u001b[49m\u001b[43m,\u001b[49m\u001b[43m \u001b[49m\u001b[43mmygraph\u001b[49m\u001b[43m,\u001b[49m\u001b[43mneighbours\u001b[49m\u001b[43m)\u001b[49m\n",
      "Input \u001b[1;32mIn [6]\u001b[0m, in \u001b[0;36mmydfs\u001b[1;34m(visited, mygraph, starting_node)\u001b[0m\n\u001b[0;32m     13\u001b[0m \u001b[38;5;28mprint\u001b[39m (starting_node,end\u001b[38;5;241m=\u001b[39m\u001b[38;5;124m\"\u001b[39m\u001b[38;5;124m \u001b[39m\u001b[38;5;124m\"\u001b[39m)\n\u001b[0;32m     15\u001b[0m \u001b[38;5;28;01mfor\u001b[39;00m neighbours \u001b[38;5;129;01min\u001b[39;00m mygraph[starting_node]:\n\u001b[1;32m---> 16\u001b[0m     \u001b[43mmydfs\u001b[49m\u001b[43m(\u001b[49m\u001b[43mvisited\u001b[49m\u001b[43m,\u001b[49m\u001b[43m \u001b[49m\u001b[43mmygraph\u001b[49m\u001b[43m,\u001b[49m\u001b[43mneighbours\u001b[49m\u001b[43m)\u001b[49m\n",
      "    \u001b[1;31m[... skipping similar frames: mydfs at line 16 (1 times)]\u001b[0m\n",
      "Input \u001b[1;32mIn [6]\u001b[0m, in \u001b[0;36mmydfs\u001b[1;34m(visited, mygraph, starting_node)\u001b[0m\n\u001b[0;32m     13\u001b[0m \u001b[38;5;28mprint\u001b[39m (starting_node,end\u001b[38;5;241m=\u001b[39m\u001b[38;5;124m\"\u001b[39m\u001b[38;5;124m \u001b[39m\u001b[38;5;124m\"\u001b[39m)\n\u001b[0;32m     15\u001b[0m \u001b[38;5;28;01mfor\u001b[39;00m neighbours \u001b[38;5;129;01min\u001b[39;00m mygraph[starting_node]:\n\u001b[1;32m---> 16\u001b[0m     \u001b[43mmydfs\u001b[49m\u001b[43m(\u001b[49m\u001b[43mvisited\u001b[49m\u001b[43m,\u001b[49m\u001b[43m \u001b[49m\u001b[43mmygraph\u001b[49m\u001b[43m,\u001b[49m\u001b[43mneighbours\u001b[49m\u001b[43m)\u001b[49m\n",
      "Input \u001b[1;32mIn [6]\u001b[0m, in \u001b[0;36mmydfs\u001b[1;34m(visited, mygraph, starting_node)\u001b[0m\n\u001b[0;32m     12\u001b[0m \u001b[38;5;28;01mif\u001b[39;00m starting_node \u001b[38;5;129;01mnot\u001b[39;00m \u001b[38;5;129;01min\u001b[39;00m visited:\n\u001b[0;32m     13\u001b[0m     \u001b[38;5;28mprint\u001b[39m (starting_node,end\u001b[38;5;241m=\u001b[39m\u001b[38;5;124m\"\u001b[39m\u001b[38;5;124m \u001b[39m\u001b[38;5;124m\"\u001b[39m)\n\u001b[1;32m---> 15\u001b[0m     \u001b[38;5;28;01mfor\u001b[39;00m neighbours \u001b[38;5;129;01min\u001b[39;00m \u001b[43mmygraph\u001b[49m\u001b[43m[\u001b[49m\u001b[43mstarting_node\u001b[49m\u001b[43m]\u001b[49m:\n\u001b[0;32m     16\u001b[0m         mydfs(visited, mygraph,neighbours)\n",
      "\u001b[1;31mKeyError\u001b[0m: ''"
     ]
    }
   ],
   "source": [
    "mygraph = {\n",
    "    \"A\":[\"B\",\"C\"],\n",
    "    \"B\":[\"D\"],\n",
    "    \"C\":[\"E\"],\n",
    "    \"D\":[],\n",
    "    \"E\":[\"F\"],\n",
    "    \"F\":[\"\"]\n",
    "}\n",
    "\n",
    "visited = []\n",
    "def mydfs(visited,mygraph,starting_node):\n",
    "    if starting_node not in visited:\n",
    "        print (starting_node,end=\" \")\n",
    "        \n",
    "        for neighbours in mygraph[starting_node]:\n",
    "            mydfs(visited, mygraph,neighbours)\n",
    "            \n",
    "mydfs(visited, mygraph, \"A\")"
   ]
  },
  {
   "cell_type": "code",
   "execution_count": null,
   "id": "a5e02e46",
   "metadata": {},
   "outputs": [],
   "source": []
  }
 ],
 "metadata": {
  "kernelspec": {
   "display_name": "Python 3 (ipykernel)",
   "language": "python",
   "name": "python3"
  },
  "language_info": {
   "codemirror_mode": {
    "name": "ipython",
    "version": 3
   },
   "file_extension": ".py",
   "mimetype": "text/x-python",
   "name": "python",
   "nbconvert_exporter": "python",
   "pygments_lexer": "ipython3",
   "version": "3.9.12"
  }
 },
 "nbformat": 4,
 "nbformat_minor": 5
}
