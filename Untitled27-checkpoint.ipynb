{
 "cells": [
  {
   "cell_type": "code",
   "execution_count": 2,
   "id": "d26d0cb6",
   "metadata": {},
   "outputs": [
    {
     "name": "stdout",
     "output_type": "stream",
     "text": [
      "Enter your Starting point: 2\n",
      "Enter your Starting point: 13\n",
      "Breadth first search traversal : \n",
      "2 4 5 7 8 9 11 12 13 "
     ]
    }
   ],
   "source": [
    "mygraph = {\n",
    "    '1':['2','3'],\n",
    "    '2':['4','5'],\n",
    "    '3':['6'],\n",
    "    '4':['7','8'],\n",
    "    '5':['9'],\n",
    "    '6':['10'],\n",
    "    '7':['11','12'],\n",
    "    '8':[],\n",
    "    '9':['13'],\n",
    "    '10':[],\n",
    "    '11':[],\n",
    "    '12':[],\n",
    "    '13':[]\n",
    "}\n",
    "visited = []\n",
    "queue = []\n",
    "starting = input(\"Enter your Starting point: \")\n",
    "ending = input(\"Enter your Starting point: \")\n",
    "def mybfs(mygraph,visited,starting_node,ending_node):\n",
    "    visited.append(starting_node)\n",
    "    queue.append(starting_node)\n",
    "    \n",
    "    while queue:\n",
    "        \n",
    "        a = queue.pop(0)\n",
    "        if a == ending:\n",
    "            print(a,end = \" \")\n",
    "            break\n",
    "        else:\n",
    "            print(a,end = \" \")\n",
    "            \n",
    "        for neighbour in mygraph[a]:\n",
    "            if neighbour not in visited:\n",
    "                visited.append(neighbour)\n",
    "                queue.append(neighbour)\n",
    "\n",
    "print(\"Breadth first search traversal : \")\n",
    "mybfs(mygraph,visited,starting,ending)\n"
   ]
  },
  {
   "cell_type": "code",
   "execution_count": 4,
   "id": "1ddf41dc",
   "metadata": {},
   "outputs": [
    {
     "name": "stdout",
     "output_type": "stream",
     "text": [
      "Enter your Starting point: 1\n",
      "Enter your Starting point: 5\n"
     ]
    },
    {
     "ename": "SyntaxError",
     "evalue": "'break' outside loop (616592116.py, line 24)",
     "output_type": "error",
     "traceback": [
      "\u001b[1;36m  Input \u001b[1;32mIn [4]\u001b[1;36m\u001b[0m\n\u001b[1;33m    break\u001b[0m\n\u001b[1;37m    ^\u001b[0m\n\u001b[1;31mSyntaxError\u001b[0m\u001b[1;31m:\u001b[0m 'break' outside loop\n"
     ]
    }
   ],
   "source": [
    "mygraph = {\n",
    "    '1':['2','3'],\n",
    "    '2':['4','5'],\n",
    "    '3':['6'],\n",
    "    '4':['7','8'],\n",
    "    '5':['9'],\n",
    "    '6':['10'],\n",
    "    '7':['11','12'],\n",
    "    '8':[],\n",
    "    '9':['13'],\n",
    "    '10':[],\n",
    "    '11':[],\n",
    "    '12':[],\n",
    "    '13':[]\n",
    "}\n",
    "visited = []\n",
    "starting = input(\"Enter your Starting point: \")\n",
    "ending = input(\"Enter your Starting point: \")\n",
    "def mydfs(mygraph,visited,starting_node,ending_node):\n",
    "    if starting_node not in visited:\n",
    "        print(starting_node, end = \" \") \n",
    "            visited.append(starting_node)\n",
    "               \n",
    "        for neighbours in mygraph[starting_node]:\n",
    "            mydfs(mygraph,visited,neighbours)\n",
    "print(\"Depth First Search traversal:\")\n",
    "mydfs(mygraph,visited,starting,ending)\n"
   ]
  },
  {
   "cell_type": "code",
   "execution_count": null,
   "id": "dd9f5bb9",
   "metadata": {},
   "outputs": [],
   "source": []
  }
 ],
 "metadata": {
  "kernelspec": {
   "display_name": "Python 3 (ipykernel)",
   "language": "python",
   "name": "python3"
  },
  "language_info": {
   "codemirror_mode": {
    "name": "ipython",
    "version": 3
   },
   "file_extension": ".py",
   "mimetype": "text/x-python",
   "name": "python",
   "nbconvert_exporter": "python",
   "pygments_lexer": "ipython3",
   "version": "3.9.12"
  }
 },
 "nbformat": 4,
 "nbformat_minor": 5
}
